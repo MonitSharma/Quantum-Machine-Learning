{
  "nbformat": 4,
  "nbformat_minor": 0,
  "metadata": {
    "colab": {
      "name": "Quantum Support Vector Machine.ipynb",
      "provenance": []
    },
    "kernelspec": {
      "name": "python3",
      "display_name": "Python 3"
    }
  },
  "cells": [
    {
      "cell_type": "markdown",
      "metadata": {
        "id": "lmWem7SDT-YC"
      },
      "source": [
        "## Importing the Necessary Libraries"
      ]
    },
    {
      "cell_type": "code",
      "metadata": {
        "id": "23hjNu3LMhvC"
      },
      "source": [
        "import qiskit\r\n",
        "import matplotlib.pyplot as plt\r\n",
        "from qiskit import BasicAer\r\n",
        "import numpy as np\r\n",
        "\r\n",
        "## basic Machine Learning Package from qiskit\r\n",
        "from qiskit.ml.datasets import ad_hoc_data\r\n",
        "from qiskit.aqua import QuantumInstance\r\n",
        "from qiskit.circuit.library import ZZFeatureMap\r\n",
        "from qiskit.aqua.algorithms import QSVM\r\n",
        "from qiskit.aqua.utils import split_dataset_to_data_and_labels, map_label_to_class_name"
      ],
      "execution_count": 8,
      "outputs": []
    },
    {
      "cell_type": "markdown",
      "metadata": {
        "id": "IozuAts8UJMI"
      },
      "source": [
        "### Seting up the parameters"
      ]
    },
    {
      "cell_type": "code",
      "metadata": {
        "id": "V24edq3XMnxv"
      },
      "source": [
        "feature_dim = 2\r\n",
        "training_dataset_size = 200\r\n",
        "testing_dataset_size  = 100\r\n",
        "random_seed = 17135\r\n",
        "shots =10000"
      ],
      "execution_count": 17,
      "outputs": []
    },
    {
      "cell_type": "markdown",
      "metadata": {
        "id": "XyucjKIGUQRK"
      },
      "source": [
        "### Plotting the Ad_Hoc Data "
      ]
    },
    {
      "cell_type": "code",
      "metadata": {
        "colab": {
          "base_uri": "https://localhost:8080/",
          "height": 281
        },
        "id": "-5tdXas-R1QQ",
        "outputId": "2ba0f78d-5968-48a8-8bde-f4111276d842"
      },
      "source": [
        "sample_Total, training_input, test_input, class_labels = ad_hoc_data(training_size = training_dataset_size,\r\n",
        "                                                                     test_size = testing_dataset_size,\r\n",
        "                                                                     gap = 0.3,\r\n",
        "                                                                     n = feature_dim,\r\n",
        "                                                                     plot_data=True)\r\n"
      ],
      "execution_count": 11,
      "outputs": [
        {
          "output_type": "display_data",
          "data": {
            "image/png": "[encoded data removed]",
            "text/plain": [
              "<Figure size 432x288 with 1 Axes>"
            ]
          },
          "metadata": {
            "tags": [],
            "needs_background": "light"
          }
        }
      ]
    },
    {
      "cell_type": "markdown",
      "metadata": {
        "id": "42j15UsrUVRV"
      },
      "source": [
        "### Deteremining the Class where they Belong"
      ]
    },
    {
      "cell_type": "code",
      "metadata": {
        "colab": {
          "base_uri": "https://localhost:8080/"
        },
        "id": "SwZt0mztR2kJ",
        "outputId": "7c6dd0e5-4c83-4dc6-ceeb-74161da83aed"
      },
      "source": [
        "datapoints, class_to_label = split_dataset_to_data_and_labels(test_input)\r\n",
        "print(class_to_label)"
      ],
      "execution_count": 12,
      "outputs": [
        {
          "output_type": "stream",
          "text": [
            "{'A': 0, 'B': 1}\n"
          ],
          "name": "stdout"
        }
      ]
    },
    {
      "cell_type": "markdown",
      "metadata": {
        "id": "In2w--J_UZzE"
      },
      "source": [
        "### Making a backend for the Programm to run"
      ]
    },
    {
      "cell_type": "code",
      "metadata": {
        "id": "2NbarWulR5sY"
      },
      "source": [
        "backend = BasicAer.get_backend('qasm_simulator')\r\n",
        "feature_map = ZZFeatureMap(feature_dim, reps =2)\r\n",
        "svm = QSVM(feature_map, training_input, test_input, None)\r\n",
        "svm.random_seed = random_seed\r\n",
        "quantum_instance = QuantumInstance(backend,\r\n",
        "                                   shots= shots,\r\n",
        "                                   seed_simulator= random_seed,\r\n",
        "                                   seed_transpiler= random_seed)\r\n",
        "result = svm.run(quantum_instance)\r\n",
        "           "
      ],
      "execution_count": 13,
      "outputs": []
    },
    {
      "cell_type": "markdown",
      "metadata": {
        "id": "kj998ZGMUe6R"
      },
      "source": [
        "###  Plotting the Kernel Matrix"
      ]
    },
    {
      "cell_type": "code",
      "metadata": {
        "colab": {
          "base_uri": "https://localhost:8080/",
          "height": 285
        },
        "id": "TRFlcAFtR6Sn",
        "outputId": "3020cedd-0a1e-487d-fb8e-20a77f731d2a"
      },
      "source": [
        "print(\"Kernel Matrix during The Training\")\r\n",
        "kernel_matrix = result[\"kernel_matrix_training\"]\r\n",
        "img = plt.imshow(np.asmatrix(kernel_matrix), interpolation='nearest', origin='upper', cmap='bone_r')\r\n",
        "plt.show()"
      ],
      "execution_count": 15,
      "outputs": [
        {
          "output_type": "stream",
          "text": [
            "Kernel Matrix during The Training\n"
          ],
          "name": "stdout"
        },
        {
          "output_type": "display_data",
          "data": {
            "image/png": "[encoded data removed]",
            "text/plain": [
              "<Figure size 432x288 with 1 Axes>"
            ]
          },
          "metadata": {
            "tags": [],
            "needs_background": "light"
          }
        }
      ]
    },
    {
      "cell_type": "markdown",
      "metadata": {
        "id": "LXVEJBQkUjyF"
      },
      "source": [
        "### Checking the Efficiency of the Model"
      ]
    },
    {
      "cell_type": "code",
      "metadata": {
        "colab": {
          "base_uri": "https://localhost:8080/"
        },
        "id": "0qmnNjqvSiH1",
        "outputId": "875b040a-49f1-44e0-9b79-51e4f8608c1f"
      },
      "source": [
        "predicted_labels = svm.predict(datapoints[0])\r\n",
        "predicted_classes = map_label_to_class_name(predicted_labels, svm.label_to_class)\r\n",
        "print(\"ground truth : {}\".format(datapoints[1]))\r\n",
        "print(\"prediction: {}\".format(predicted_labels))\r\n",
        "print(\"testing success ratio : \", result['testing_accuracy'])"
      ],
      "execution_count": 16,
      "outputs": [
        {
          "output_type": "stream",
          "text": [
            "ground truth : [0 0 0 0 0 0 0 0 0 0 1 1 1 1 1 1 1 1 1 1]\n",
            "prediction: [0 0 0 0 0 0 0 0 0 0 1 1 1 1 1 1 1 1 1 1]\n",
            "testing success ratio :  1.0\n"
          ],
          "name": "stdout"
        }
      ]
    }
  ]
}