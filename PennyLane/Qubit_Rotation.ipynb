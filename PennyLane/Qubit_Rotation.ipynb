{
  "nbformat": 4,
  "nbformat_minor": 0,
  "metadata": {
    "colab": {
      "name": "Qubit_Rotation.ipynb",
      "provenance": []
    },
    "kernelspec": {
      "name": "python3",
      "display_name": "Python 3"
    }
  },
  "cells": [
    {
      "cell_type": "code",
      "metadata": {
        "colab": {
          "base_uri": "https://localhost:8080/"
        },
        "id": "mMMI-sl3Iztf",
        "outputId": "b70d5b1c-3028-4d97-f55a-c640aa763f3a"
      },
      "source": [
        "!pip install pennylane\r\n",
        "\r\n"
      ],
      "execution_count": 1,
      "outputs": [
        {
          "output_type": "stream",
          "text": [
            "Collecting pennylane\n",
            "\u001b[?25l  Downloading https://files.pythonhosted.org/packages/5a/0e/248fa5d3913f03cbd03c9c6b3cfbffbde4f52fa54d334bbd86442b49a95f/PennyLane-0.14.0-py3-none-any.whl (480kB)\n",
            "\r\u001b[K     |▊                               | 10kB 16.3MB/s eta 0:00:01\r\u001b[K     |█▍                              | 20kB 20.2MB/s eta 0:00:01\r\u001b[K     |██                              | 30kB 13.0MB/s eta 0:00:01\r\u001b[K     |██▊                             | 40kB 10.1MB/s eta 0:00:01\r\u001b[K     |███▍                            | 51kB 9.1MB/s eta 0:00:01\r\u001b[K     |████                            | 61kB 9.5MB/s eta 0:00:01\r\u001b[K     |████▊                           | 71kB 9.0MB/s eta 0:00:01\r\u001b[K     |█████▌                          | 81kB 9.4MB/s eta 0:00:01\r\u001b[K     |██████▏                         | 92kB 8.9MB/s eta 0:00:01\r\u001b[K     |██████▉                         | 102kB 8.4MB/s eta 0:00:01\r\u001b[K     |███████▌                        | 112kB 8.4MB/s eta 0:00:01\r\u001b[K     |████████▏                       | 122kB 8.4MB/s eta 0:00:01\r\u001b[K     |████████▉                       | 133kB 8.4MB/s eta 0:00:01\r\u001b[K     |█████████▌                      | 143kB 8.4MB/s eta 0:00:01\r\u001b[K     |██████████▏                     | 153kB 8.4MB/s eta 0:00:01\r\u001b[K     |███████████                     | 163kB 8.4MB/s eta 0:00:01\r\u001b[K     |███████████▋                    | 174kB 8.4MB/s eta 0:00:01\r\u001b[K     |████████████▎                   | 184kB 8.4MB/s eta 0:00:01\r\u001b[K     |█████████████                   | 194kB 8.4MB/s eta 0:00:01\r\u001b[K     |█████████████▋                  | 204kB 8.4MB/s eta 0:00:01\r\u001b[K     |██████████████▎                 | 215kB 8.4MB/s eta 0:00:01\r\u001b[K     |███████████████                 | 225kB 8.4MB/s eta 0:00:01\r\u001b[K     |███████████████▊                | 235kB 8.4MB/s eta 0:00:01\r\u001b[K     |████████████████▍               | 245kB 8.4MB/s eta 0:00:01\r\u001b[K     |█████████████████               | 256kB 8.4MB/s eta 0:00:01\r\u001b[K     |█████████████████▊              | 266kB 8.4MB/s eta 0:00:01\r\u001b[K     |██████████████████▍             | 276kB 8.4MB/s eta 0:00:01\r\u001b[K     |███████████████████             | 286kB 8.4MB/s eta 0:00:01\r\u001b[K     |███████████████████▊            | 296kB 8.4MB/s eta 0:00:01\r\u001b[K     |████████████████████▍           | 307kB 8.4MB/s eta 0:00:01\r\u001b[K     |█████████████████████▏          | 317kB 8.4MB/s eta 0:00:01\r\u001b[K     |█████████████████████▉          | 327kB 8.4MB/s eta 0:00:01\r\u001b[K     |██████████████████████▌         | 337kB 8.4MB/s eta 0:00:01\r\u001b[K     |███████████████████████▏        | 348kB 8.4MB/s eta 0:00:01\r\u001b[K     |███████████████████████▉        | 358kB 8.4MB/s eta 0:00:01\r\u001b[K     |████████████████████████▌       | 368kB 8.4MB/s eta 0:00:01\r\u001b[K     |█████████████████████████▏      | 378kB 8.4MB/s eta 0:00:01\r\u001b[K     |██████████████████████████      | 389kB 8.4MB/s eta 0:00:01\r\u001b[K     |██████████████████████████▋     | 399kB 8.4MB/s eta 0:00:01\r\u001b[K     |███████████████████████████▎    | 409kB 8.4MB/s eta 0:00:01\r\u001b[K     |████████████████████████████    | 419kB 8.4MB/s eta 0:00:01\r\u001b[K     |████████████████████████████▋   | 430kB 8.4MB/s eta 0:00:01\r\u001b[K     |█████████████████████████████▎  | 440kB 8.4MB/s eta 0:00:01\r\u001b[K     |██████████████████████████████  | 450kB 8.4MB/s eta 0:00:01\r\u001b[K     |██████████████████████████████▋ | 460kB 8.4MB/s eta 0:00:01\r\u001b[K     |███████████████████████████████▍| 471kB 8.4MB/s eta 0:00:01\r\u001b[K     |████████████████████████████████| 481kB 8.4MB/s \n",
            "\u001b[?25hRequirement already satisfied: autograd in /usr/local/lib/python3.6/dist-packages (from pennylane) (1.3)\n",
            "Collecting semantic-version==2.6\n",
            "  Downloading https://files.pythonhosted.org/packages/28/be/3a7241d731ba89063780279a5433f5971c1cf41735b64a9f874b7c3ff995/semantic_version-2.6.0-py3-none-any.whl\n",
            "Requirement already satisfied: appdirs in /usr/local/lib/python3.6/dist-packages (from pennylane) (1.4.4)\n",
            "Requirement already satisfied: numpy in /usr/local/lib/python3.6/dist-packages (from pennylane) (1.19.5)\n",
            "Requirement already satisfied: networkx in /usr/local/lib/python3.6/dist-packages (from pennylane) (2.5)\n",
            "Requirement already satisfied: scipy in /usr/local/lib/python3.6/dist-packages (from pennylane) (1.4.1)\n",
            "Requirement already satisfied: toml in /usr/local/lib/python3.6/dist-packages (from pennylane) (0.10.2)\n",
            "Requirement already satisfied: future>=0.15.2 in /usr/local/lib/python3.6/dist-packages (from autograd->pennylane) (0.16.0)\n",
            "Requirement already satisfied: decorator>=4.3.0 in /usr/local/lib/python3.6/dist-packages (from networkx->pennylane) (4.4.2)\n",
            "Installing collected packages: semantic-version, pennylane\n",
            "Successfully installed pennylane-0.14.0 semantic-version-2.6.0\n"
          ],
          "name": "stdout"
        }
      ]
    },
    {
      "cell_type": "markdown",
      "metadata": {
        "id": "HFi7bBpYI4Dt"
      },
      "source": [
        "## Qubit Rotation\r\n"
      ]
    },
    {
      "cell_type": "markdown",
      "metadata": {
        "id": "6HvGrOrOI97e"
      },
      "source": [
        "The task at hand is to optimize two rotation gates in order to flip a single qubit from state \r\n",
        "$|0⟩$ to state $|1⟩$\r\n",
        "\r\n",
        "### The Quantum Circuit\r\n",
        "\r\n",
        "Breaking this down step-by-step, we first start with a qubit in the ground state |0⟩ = $[1 , 0]^T$\r\n",
        ", and rotate it around the x-axis by applying the gate\r\n",
        "\r\n",
        "$R_x(ϕ_1)$= $e^{−iϕ_1σ_x/2}$\r\n",
        "\r\n",
        "and then around the y-axis via the gate\r\n",
        "\r\n",
        "$R_y(ϕ_2)$=$e^{−iϕ_2σ_y/2}$\r\n",
        "\r\n",
        "After these operations the qubit is now in the state\r\n",
        "\r\n",
        "$|ψ⟩$=\r\n",
        "$R_y(ϕ_2)R_x(ϕ_1)|0⟩$\r\n",
        ".\r\n",
        "Finally, we measure the expectation value \r\n",
        "$⟨\r\n",
        "ψ\r\n",
        "∣\r\n",
        "σ\r\n",
        "_z\r\n",
        "∣\r\n",
        "ψ\r\n",
        "⟩$\r\n",
        " of the Pauli-Z operator\r\n",
        "Using the above to calculate the exact expectation value, we find that\r\n",
        "\r\n",
        "$⟨\r\n",
        "ψ\r\n",
        "∣\r\n",
        "σ\r\n",
        "_z\r\n",
        "∣\r\n",
        "ψ\r\n",
        "⟩\r\n",
        "=\r\n",
        "⟨\r\n",
        "0\r\n",
        "∣\r\n",
        "R\r\n",
        "_x\r\n",
        "(\r\n",
        "ϕ\r\n",
        "_1\r\n",
        ")\r\n",
        "†\r\n",
        "R\r\n",
        "_y\r\n",
        "(\r\n",
        "ϕ\r\n",
        "_2\r\n",
        ")\r\n",
        "†\r\n",
        "σ\r\n",
        "_z\r\n",
        "R\r\n",
        "_y\r\n",
        "(\r\n",
        "ϕ\r\n",
        "_2\r\n",
        ")\r\n",
        "R\r\n",
        "_x\r\n",
        "(\r\n",
        "ϕ\r\n",
        "_1\r\n",
        ")\r\n",
        "∣\r\n",
        "0\r\n",
        "⟩\r\n",
        "=\r\n",
        "cos\r\n",
        "(\r\n",
        "ϕ\r\n",
        "_1\r\n",
        ")\r\n",
        "cos\r\n",
        "(\r\n",
        "ϕ\r\n",
        "_2\r\n",
        ")$\r\n",
        ".\r\n",
        "Depending on the circuit parameters \r\n",
        "$ϕ\r\n",
        "_1$\r\n",
        " and \r\n",
        "$ϕ\r\n",
        "_2$\r\n",
        ", the output expectation lies between \r\n",
        "1\r\n",
        " (if \r\n",
        "$|\r\n",
        "ψ\r\n",
        "⟩\r\n",
        "=\r\n",
        "|\r\n",
        "0\r\n",
        "⟩\r\n",
        ") $and \r\n",
        "−\r\n",
        "1\r\n",
        " (if \r\n",
        " $\r\n",
        "|\r\n",
        "ψ\r\n",
        "⟩\r\n",
        "=\r\n",
        "|\r\n",
        "1\r\n",
        "⟩\r\n",
        ").$\r\n",
        "\r\n"
      ]
    },
    {
      "cell_type": "code",
      "metadata": {
        "id": "EtPNZyMYI6Tw"
      },
      "source": [
        "import pennylane as qml\r\n",
        "from pennylane import numpy as np"
      ],
      "execution_count": 2,
      "outputs": []
    },
    {
      "cell_type": "markdown",
      "metadata": {
        "id": "m_njXHM8LWCx"
      },
      "source": [
        "It is important to load Numpy from the pennylane library , not from the standard numpy"
      ]
    },
    {
      "cell_type": "markdown",
      "metadata": {
        "id": "LcFs6TSjLgEL"
      },
      "source": [
        "## Creating A Device\r\n",
        "\r\n",
        "Any computational object that can apply quantum operations, and return an measurement value is called a quantum device."
      ]
    },
    {
      "cell_type": "code",
      "metadata": {
        "id": "mYM7Lat6LTi-"
      },
      "source": [
        "dev1 = qml.device(\"default.qubit\", wires = 1)"
      ],
      "execution_count": 3,
      "outputs": []
    },
    {
      "cell_type": "markdown",
      "metadata": {
        "id": "1w30ABoeLybI"
      },
      "source": [
        "Default Qubit is just the Pure State Qubit simulator and wires is the number of subsytems to be initialized\r\n",
        "\r\n",
        "Hence Single Qubit , so wires = 1"
      ]
    },
    {
      "cell_type": "markdown",
      "metadata": {
        "id": "GQS4wL-YMCDi"
      },
      "source": [
        "## Constructing the QNode\r\n",
        "\r\n",
        "QNodes are an abstract encapsulation of a quantum function, described by a quantum circuit. QNodes are bound to a particular quantum device, which is used to evaluate expectation and variance values of this circuit.\r\n",
        "\r\n"
      ]
    },
    {
      "cell_type": "code",
      "metadata": {
        "id": "YjWuW72WMABX"
      },
      "source": [
        "def circuit(params):\r\n",
        "  qml.RX(params[0], wires=0)\r\n",
        "  qml.RX(params[1], wires=0)\r\n",
        "  return qml.expval(qml.PauliZ(0))\r\n"
      ],
      "execution_count": 5,
      "outputs": []
    },
    {
      "cell_type": "markdown",
      "metadata": {
        "id": "wyOntErlMmfO"
      },
      "source": [
        "Once we have written the Quantum Function, we can convert it into a QNode, running on dev1 device"
      ]
    },
    {
      "cell_type": "code",
      "metadata": {
        "id": "8Rdwq1AIMScX"
      },
      "source": [
        "@qml.qnode(dev1)\r\n",
        "def circuit(params):\r\n",
        "  qml.RX(params[0], wires=0)\r\n",
        "  qml.RX(params[1], wires=0)\r\n",
        "  return qml.expval(qml.PauliZ(0))\r\n"
      ],
      "execution_count": 6,
      "outputs": []
    },
    {
      "cell_type": "markdown",
      "metadata": {
        "id": "3-lIvYbyM4HO"
      },
      "source": [
        "Thus, Now the circuit() function is a QNode, which will run on dev1\r\n"
      ]
    },
    {
      "cell_type": "code",
      "metadata": {
        "colab": {
          "base_uri": "https://localhost:8080/"
        },
        "id": "P3WbiOzUM3UQ",
        "outputId": "e0ed7516-53a6-430d-ad95-72b33de41666"
      },
      "source": [
        "print(circuit([0.54, 0.12]))"
      ],
      "execution_count": 7,
      "outputs": [
        {
          "output_type": "stream",
          "text": [
            "0.7899922314973652\n"
          ],
          "name": "stdout"
        }
      ]
    },
    {
      "cell_type": "markdown",
      "metadata": {
        "id": "wB2uhDcuPjK4"
      },
      "source": [
        "## Calculating Quantum Gradient\r\n",
        "\r\n",
        "The gradient of the function circuit, encapsulated within the QNode, can be evaluated by utilizing the same quantum device (dev1) that we used to evaluate the function itself.\r\n",
        "\r\n"
      ]
    },
    {
      "cell_type": "code",
      "metadata": {
        "id": "-woJjTrEM0yt"
      },
      "source": [
        "dcircuit = qml.grad(circuit, argnum= 0)"
      ],
      "execution_count": 8,
      "outputs": []
    },
    {
      "cell_type": "markdown",
      "metadata": {
        "id": "OERhsJFBP1o8"
      },
      "source": [
        "The function grad() itself, returns a function, representing the derivative of the QNode with respect to the argument in argnum.\r\n",
        "\r\n",
        "In this case, the function circuit takes one argument (params) , so we specify argnum =0 .\r\n",
        "\r\n",
        "Because the argument has 2 elements, the returned gradient is two dimensional"
      ]
    },
    {
      "cell_type": "code",
      "metadata": {
        "colab": {
          "base_uri": "https://localhost:8080/"
        },
        "id": "7v811m1OPz02",
        "outputId": "b5d6f2a6-b915-4b0d-82d0-23d2561c8f81"
      },
      "source": [
        "print(dcircuit([0.54, 0.12]))"
      ],
      "execution_count": 11,
      "outputs": [
        {
          "output_type": "stream",
          "text": [
            "[array(-0.61311685), array(-0.61311685)]\n"
          ],
          "name": "stdout"
        }
      ]
    },
    {
      "cell_type": "markdown",
      "metadata": {
        "id": "RCoylDrhQq-N"
      },
      "source": [
        "Quantum Circuit Functions, are a restricted subset of Python functions, we could have defined the circuit as follows"
      ]
    },
    {
      "cell_type": "code",
      "metadata": {
        "id": "I8Bf3gsxQVWc"
      },
      "source": [
        "@qml.qnode(dev1)\r\n",
        "def circuit2(phi1, phi2):\r\n",
        "  qml.RX(phi1, wires=0)\r\n",
        "  qml.RY(phi2, wires=0)\r\n",
        "  return qml.expval(qml.PauliZ(0))"
      ],
      "execution_count": 12,
      "outputs": []
    },
    {
      "cell_type": "markdown",
      "metadata": {
        "id": "ii9ZT4Z5RIEW"
      },
      "source": [
        "But when we calculate the gradient for the given function, the argnum , would be slightly different.\r\n",
        "\r\n",
        "Here argnum = 0, will only give the gradient wrt phi1 and argnum = 1 will give the gradient wrt phi2"
      ]
    },
    {
      "cell_type": "code",
      "metadata": {
        "colab": {
          "base_uri": "https://localhost:8080/"
        },
        "id": "XCXhhVXwRDon",
        "outputId": "ec17f803-4df2-4e15-aa39-240993452c1f"
      },
      "source": [
        "dcircuit2 = qml.grad(circuit2, argnum=[0,1])\r\n",
        "print(dcircuit([0.54,0.12]))"
      ],
      "execution_count": 14,
      "outputs": [
        {
          "output_type": "stream",
          "text": [
            "[array(-0.61311685), array(-0.61311685)]\n"
          ],
          "name": "stdout"
        }
      ]
    },
    {
      "cell_type": "markdown",
      "metadata": {
        "id": "ikF1TTb8RtmS"
      },
      "source": [
        "## Optimization\r\n",
        "\r\n",
        "Let us make use of built in optimizers to rotate the state initially in 0 to the 1 state\r\n",
        "\r\n",
        "Which is equivalen of Pauli-Z measuring the expectation value of -1.\r\n",
        "\r\n",
        "The optimization function will find the best weights for the parameters phi1 and phi2\r\n"
      ]
    },
    {
      "cell_type": "code",
      "metadata": {
        "id": "rK7-aL8CRmnQ"
      },
      "source": [
        "def cost(x):\r\n",
        "  return circuit(x)"
      ],
      "execution_count": 15,
      "outputs": []
    },
    {
      "cell_type": "code",
      "metadata": {
        "colab": {
          "base_uri": "https://localhost:8080/"
        },
        "id": "_B7OR3OvSOOC",
        "outputId": "805ecd1b-8cae-47de-a618-61c7322526a7"
      },
      "source": [
        "# chose some initial value for it\r\n",
        "init_params = np.array([0.011, 0.012])\r\n",
        "print(cost(init_params))"
      ],
      "execution_count": 16,
      "outputs": [
        {
          "output_type": "stream",
          "text": [
            "0.999735511659836\n"
          ],
          "name": "stdout"
        }
      ]
    },
    {
      "cell_type": "markdown",
      "metadata": {
        "id": "gIaioFF8Sblk"
      },
      "source": [
        "Hence for the initial parameters, the cost function is close to 1\r\n",
        "\r\n",
        "We will iterate it 100 times"
      ]
    },
    {
      "cell_type": "code",
      "metadata": {
        "colab": {
          "base_uri": "https://localhost:8080/"
        },
        "id": "ZqEOGMgbSZQL",
        "outputId": "ab09d7d6-6c33-42e6-d9f6-308a709c744e"
      },
      "source": [
        "# initialize\r\n",
        "opt = qml.GradientDescentOptimizer(stepsize=0.4)\r\n",
        "\r\n",
        "# number of steps\r\n",
        "steps = 100\r\n",
        "\r\n",
        "params = init_params\r\n",
        "\r\n",
        "for i in range(steps):\r\n",
        "  params = opt.step(cost,params)\r\n",
        "\r\n",
        "\r\n",
        "  if (i+1) % 5 == 0:\r\n",
        "    print(\"Cost after step {:5d} : {: .7f}\".format(i+1, cost(params)))\r\n",
        "\r\n",
        "\r\n",
        "print(\"Optimized rotation angles : {}\".format(params))"
      ],
      "execution_count": 19,
      "outputs": [
        {
          "output_type": "stream",
          "text": [
            "Cost after step     5 :  0.9081672\n",
            "Cost after step    10 : -0.9970866\n",
            "Cost after step    15 : -1.0000000\n",
            "Cost after step    20 : -1.0000000\n",
            "Cost after step    25 : -1.0000000\n",
            "Cost after step    30 : -1.0000000\n",
            "Cost after step    35 : -1.0000000\n",
            "Cost after step    40 : -1.0000000\n",
            "Cost after step    45 : -1.0000000\n",
            "Cost after step    50 : -1.0000000\n",
            "Cost after step    55 : -1.0000000\n",
            "Cost after step    60 : -1.0000000\n",
            "Cost after step    65 : -1.0000000\n",
            "Cost after step    70 : -1.0000000\n",
            "Cost after step    75 : -1.0000000\n",
            "Cost after step    80 : -1.0000000\n",
            "Cost after step    85 : -1.0000000\n",
            "Cost after step    90 : -1.0000000\n",
            "Cost after step    95 : -1.0000000\n",
            "Cost after step   100 : -1.0000000\n",
            "Optimized rotation angles : [1.57029633 1.57129633]\n"
          ],
          "name": "stdout"
        }
      ]
    },
    {
      "cell_type": "markdown",
      "metadata": {
        "id": "1vHNKHXPTS3r"
      },
      "source": [
        "We can see that the optimization converges after approximately 15 steps."
      ]
    },
    {
      "cell_type": "code",
      "metadata": {
        "id": "bQDNGZDcTHmN"
      },
      "source": [
        ""
      ],
      "execution_count": null,
      "outputs": []
    }
  ]
}